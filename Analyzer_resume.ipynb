{
 "cells": [
  {
   "cell_type": "code",
   "execution_count": 3,
   "metadata": {},
   "outputs": [
    {
     "name": "stdout",
     "output_type": "stream",
     "text": [
      "Note: you may need to restart the kernel to use updated packages.\n"
     ]
    },
    {
     "name": "stderr",
     "output_type": "stream",
     "text": [
      "\n",
      "Usage:   \n",
      "  c:\\Program Files\\Python313\\python.exe -m pip install [options] <requirement specifier> [package-index-options] ...\n",
      "  c:\\Program Files\\Python313\\python.exe -m pip install [options] -r <requirements file> [package-index-options] ...\n",
      "  c:\\Program Files\\Python313\\python.exe -m pip install [options] [-e] <vcs project url> ...\n",
      "  c:\\Program Files\\Python313\\python.exe -m pip install [options] [-e] <local project path> ...\n",
      "  c:\\Program Files\\Python313\\python.exe -m pip install [options] <archive url/path> ...\n",
      "\n",
      "no such option: -m\n"
     ]
    }
   ],
   "source": [
    "%pip install pdfplumber nlkt openai docx2txt spacy python -m spacy download en_core_web_sm"
   ]
  },
  {
   "cell_type": "code",
   "execution_count": 1,
   "metadata": {},
   "outputs": [
    {
     "name": "stdout",
     "output_type": "stream",
     "text": [
      "Defaulting to user installation because normal site-packages is not writeable\n",
      "Requirement already satisfied: docx2txt in c:\\users\\subham raha\\appdata\\roaming\\python\\python313\\site-packages (0.9)\n",
      "Note: you may need to restart the kernel to use updated packages.\n"
     ]
    }
   ],
   "source": [
    "%pip install docx2txt"
   ]
  },
  {
   "cell_type": "markdown",
   "metadata": {},
   "source": [
    "CODE TO EXTRACT INFORMATION"
   ]
  },
  {
   "cell_type": "code",
   "execution_count": 2,
   "metadata": {},
   "outputs": [
    {
     "name": "stderr",
     "output_type": "stream",
     "text": [
      "CropBox missing from /Page, defaulting to MediaBox\n",
      "CropBox missing from /Page, defaulting to MediaBox\n",
      "CropBox missing from /Page, defaulting to MediaBox\n",
      "CropBox missing from /Page, defaulting to MediaBox\n"
     ]
    },
    {
     "name": "stdout",
     "output_type": "stream",
     "text": [
      "Diptimayee Patra\n",
      "Kolkata,West Bengal\n",
      "(cid:211) +91-7003057157  diptimayeepatra07@gmail.com  LinkedIn (cid:135) GitHub\n",
      "EDUCATION\n",
      "Institute of Engineering and Management (School of UEM Kolkata) Jul 2023 – Jan 2027\n",
      "B.Tech - CSE(AIML)-CGPA-9.16 Kolkata, India\n",
      "Pramila Memorial Advanced School Apr 2022 – May 2023\n",
      "ISC - 12th - PCM - 94% Kolkata, India\n",
      "PROJECTS\n",
      "Anti-Sleep Engine (Hardware Project)  | Arduino IDE 1.8.19 Feb 2024\n",
      "• We have used eye blink sensor along with some other essentials for our project. Eye blink sensor is fitted in the\n",
      "transparent eye-wear which the driver needs to wear, and if the driver’s eye is closed for more than 3 seconds,\n",
      "the alarm rings to alert the driver, in case the driver doesn’t wake up then the car’s engine gradually stops .\n",
      "Contact Management System  | Python, MYSQL May 2024\n",
      "• The Contact Management System (CMS) is a Python-based application designed to help users efficiently\n",
      "manage their contacts. The system allows users to add, view, update, delete, and search for contacts. Each\n",
      "contact can have multiple details, including name, phone number and email address.\n",
      "• The application uses a database to store contact information and provides a user-friendly interface for\n",
      "interaction.\n",
      "Weather App using API  | Python(Tkinter) Jun 2024\n",
      "• The Python Weather App is a simple yet effective application designed to fetch and display real-time weather\n",
      "data for any location in the world. The project leverages Python’s powerful libraries and API integration\n",
      "capabilities to provide accurate and up-to-date weather information.\n",
      "• In this project, I have integrated APIs to fetch real-time data, gained experience in handling JSON data,\n",
      "developed user-friendly GUI and implemented powerful python libraries.\n",
      "Web Scraping (E-Commerce Website)  | Python(BeautifulSoup, Pandas) Jul 2024\n",
      "• The primary goal of this project is to develop a web scraping tool that extracts data about mobile phones\n",
      "priced under 50,000 INR from Flipkart. The extracted data will include details such as the mobile name, price,\n",
      "specifications, and user ratings. This information can be used for market analysis, comparison, and\n",
      "decision-making purposes.\n",
      "• In this Project, I have implemented some python libraries like BeautifulSoup to parse HTML Content and\n",
      "extract relevant data points, requests library to send request to Flipkart’s search page and lastly used pandas\n",
      "to store the extracted data in a structured format as CSV.\n",
      "Resume Template Builder  | HTML, CSS, JS Apr 2024\n",
      "• The Resume Template Builder is a web-based application that allows users to create professional by editting\n",
      "the sample template present in the web application. This project leverages HTML, CSS, and JavaScript to\n",
      "provide a user-friendly interface and dynamic functionalities for building and editing resume.\n",
      "• Live site here\n",
      "TECHNICAL SKILLS\n",
      "Languages: Python, Java, C, HTML, CSS, JavaScript\n",
      "Deployment: Replit, Gitpages, Netlify\n",
      "Hardware: Arduino, Raspberry pi\n",
      "Miscellaneous: VS Code, IDLE, SQL, Figma, Excel, PowerPoint, Postman\n",
      "CERTIFICATIONS\n",
      "Udemy  Jun 2024\n",
      "The Complete Python Bootcamp from Zero to Hero in Python Kolkata,West Bengal\n",
      "• Manipulate and analyze data using libraries like Pandas and NumPy. Create data visualizations with\n",
      "Matplotlib and Seaborn\n",
      "• Use object-oriented programming (OOP) techniques and classes.\n",
      "Microsoft and LinkedIn  May 2024\n",
      "Career Essentials in Software Development Kolkata,West Bengal\n",
      "• It is an immersive course designed to provide foundational skills in software development. The course covered\n",
      "programming fundamentals, web development and software development tools. I have learned essential\n",
      "professional skills for effective communication and teamwork. The program also offered career development\n",
      "strategies, which helped me build a professional portfolio and prepare for job opportunities in the tech\n",
      "industry.\n",
      "• With tests, quizzes and assessments to reinforce learning, it provided a comprehensive foundation for\n",
      "individuals seeking to advance their careers in software development.\n",
      "NPTEL  Jan 2024\n",
      "Python for Data Science Kolkata,West Bengal\n",
      "• This course provides an introduction to the use of Python programming for data science. It covers basic to\n",
      "advanced concepts in Python and its application to data analysis and visualization. I have gained knowledge\n",
      "pf some key libraries and tools in Python used in data science, such as NumPy, pandas, Matplotlib, and\n",
      "scikit-learn.\n",
      "• By the end of the course, I have learned to write Python programs to manipulate, analyze, and visualize data.\n",
      "NPTEL  Oct 2024\n",
      "Operating System Fundamentals Kolkata,West Bengal\n",
      "• Tjis course covers key concepts like process management, memory management, file systems, scheduling\n",
      "algorithms, and system security. It introduces the role of an operating system in managing hardware resources,\n",
      "providing user interfaces, and ensuring efficient execution of programs and processes.\n",
      "NPTEL  Nov 2024\n",
      "Problem Solving Through Programming in C Kolkata,West Bengal\n",
      "• I have developed strong problem-solving skills by learning to write efficient C programs, I gained proficiency in\n",
      "algorithms, data structures, and debugging techniques. The course enhanced my ability to design logical\n",
      "solutions, optimize code performance, and improve my programming and analytical thinking skills.\n",
      "Coursera  Sep 2024\n",
      "Advanced System Security Topics Kolkata,West Bengal\n",
      "• I have gained in-depth knowledge of system vulnerabilities, penetration testing, and advanced cryptography\n",
      "techniques. I learned to analyze and mitigate security threats, understand secure system design, and apply\n",
      "practical security measures to protect networks, applications, and data from advanced cyber-attacks\n",
      "IIT Kharagpur, TechFest (Kshitij)  Jan 2024\n",
      "Participant Kharagpur,West Bengal\n",
      "• We have designed a charger for Bajaj chetak EV Scooter. Our team focused on creating a charger that is not\n",
      "only efficient and reliable but also user-friendly and in line with Bajaj’s legacy of excellence. Working on this\n",
      "project has been an incredible journey with sustainable innovation.Incorporating eco-friendly materials and\n",
      "energy-efficient processes, we worked towards sustainability.\n",
      "• From insightful lectures and interactive workshops to networking with industry leaders and fellow enthusiasts,\n",
      "every moment was filled with learning and inspiration\n",
      "\n"
     ]
    }
   ],
   "source": [
    "import pdfplumber\n",
    "import docx2txt\n",
    "import os\n",
    "def extract_text_from_pdf(pdf_path):\n",
    "    text = \"\"\n",
    "    with pdfplumber.open(pdf_path) as pdf:\n",
    "        for page in pdf.pages:\n",
    "            text += page.extract_text() + \"\\n\"\n",
    "    return text\n",
    "def extract_text_from_docx(docx_path):\n",
    "    return docx2txt.process(docx_path)\n",
    "def extract_resume_text(file_path):\n",
    "    _, file_extension = os.path.splitext(file_path)\n",
    "    if file_extension.lower() == \".pdf\":\n",
    "        return extract_text_from_pdf(file_path)\n",
    "    elif file_extension.lower() == \".docx\":\n",
    "        return extract_text_from_docx(file_path)\n",
    "    else:\n",
    "        raise ValueError(\"Unsupported file format. Please upload a PDF or DOCX file.\")\n",
    "file_path = \"resume.pdf\"  \n",
    "resume_text = extract_resume_text(file_path)\n",
    "print(resume_text)"
   ]
  },
  {
   "cell_type": "markdown",
   "metadata": {},
   "source": [
    "CODE FOR RESUME ANALYSIS AND SUGGESTIONS"
   ]
  },
  {
   "cell_type": "code",
   "execution_count": 2,
   "metadata": {},
   "outputs": [
    {
     "name": "stdout",
     "output_type": "stream",
     "text": [
      "Defaulting to user installation because normal site-packages is not writeable\n",
      "Requirement already satisfied: openai in c:\\users\\subham raha\\appdata\\roaming\\python\\python313\\site-packages (1.70.0)\n",
      "Requirement already satisfied: anyio<5,>=3.5.0 in c:\\users\\subham raha\\appdata\\roaming\\python\\python313\\site-packages (from openai) (4.9.0)\n",
      "Requirement already satisfied: distro<2,>=1.7.0 in c:\\users\\subham raha\\appdata\\roaming\\python\\python313\\site-packages (from openai) (1.9.0)\n",
      "Requirement already satisfied: httpx<1,>=0.23.0 in c:\\users\\subham raha\\appdata\\roaming\\python\\python313\\site-packages (from openai) (0.28.1)\n",
      "Requirement already satisfied: jiter<1,>=0.4.0 in c:\\users\\subham raha\\appdata\\roaming\\python\\python313\\site-packages (from openai) (0.9.0)\n",
      "Requirement already satisfied: pydantic<3,>=1.9.0 in c:\\users\\subham raha\\appdata\\roaming\\python\\python313\\site-packages (from openai) (2.11.1)\n",
      "Requirement already satisfied: sniffio in c:\\users\\subham raha\\appdata\\roaming\\python\\python313\\site-packages (from openai) (1.3.1)\n",
      "Requirement already satisfied: tqdm>4 in c:\\users\\subham raha\\appdata\\roaming\\python\\python313\\site-packages (from openai) (4.67.1)\n",
      "Requirement already satisfied: typing-extensions<5,>=4.11 in c:\\users\\subham raha\\appdata\\roaming\\python\\python313\\site-packages (from openai) (4.13.0)\n",
      "Requirement already satisfied: idna>=2.8 in c:\\users\\subham raha\\appdata\\roaming\\python\\python313\\site-packages (from anyio<5,>=3.5.0->openai) (3.10)\n",
      "Requirement already satisfied: certifi in c:\\users\\subham raha\\appdata\\roaming\\python\\python313\\site-packages (from httpx<1,>=0.23.0->openai) (2025.1.31)\n",
      "Requirement already satisfied: httpcore==1.* in c:\\users\\subham raha\\appdata\\roaming\\python\\python313\\site-packages (from httpx<1,>=0.23.0->openai) (1.0.7)\n",
      "Requirement already satisfied: h11<0.15,>=0.13 in c:\\users\\subham raha\\appdata\\roaming\\python\\python313\\site-packages (from httpcore==1.*->httpx<1,>=0.23.0->openai) (0.14.0)\n",
      "Requirement already satisfied: annotated-types>=0.6.0 in c:\\users\\subham raha\\appdata\\roaming\\python\\python313\\site-packages (from pydantic<3,>=1.9.0->openai) (0.7.0)\n",
      "Requirement already satisfied: pydantic-core==2.33.0 in c:\\users\\subham raha\\appdata\\roaming\\python\\python313\\site-packages (from pydantic<3,>=1.9.0->openai) (2.33.0)\n",
      "Requirement already satisfied: typing-inspection>=0.4.0 in c:\\users\\subham raha\\appdata\\roaming\\python\\python313\\site-packages (from pydantic<3,>=1.9.0->openai) (0.4.0)\n",
      "Requirement already satisfied: colorama in c:\\users\\subham raha\\appdata\\roaming\\python\\python313\\site-packages (from tqdm>4->openai) (0.4.6)\n",
      "Note: you may need to restart the kernel to use updated packages.\n"
     ]
    }
   ],
   "source": [
    "%pip install --upgrade openai"
   ]
  },
  {
   "cell_type": "code",
   "execution_count": 3,
   "metadata": {},
   "outputs": [],
   "source": [
    "from openai import OpenAI\n",
    "client = OpenAI(api_key=\"your_api_key\")\n",
    "def get_resume_feedback(resume_text):\n",
    "    prompt = f\"\"\"\n",
    "    Analyze the following resume and provide feedback on how to improve it.\n",
    "    Identify missing skills, suggest better wording, and recommend additional experiences or projects.\n",
    "    Resume Content:\n",
    "    {resume_text}\n",
    "    \"\"\"\n",
    "    response = client.chat.completions.create(\n",
    "        model=\"gpt-3.5-turbo\",\n",
    "        messages=[{\"role\": \"user\", \"content\": prompt}]\n",
    "    )\n",
    "    return response.choices[0].message.content"
   ]
  },
  {
   "cell_type": "markdown",
   "metadata": {},
   "source": [
    "WEB APPLICATION"
   ]
  },
  {
   "cell_type": "code",
   "execution_count": 1,
   "metadata": {},
   "outputs": [
    {
     "name": "stdout",
     "output_type": "stream",
     "text": [
      "Defaulting to user installation because normal site-packages is not writeable\n",
      "Requirement already satisfied: streamlit in c:\\users\\subham raha\\appdata\\roaming\\python\\python313\\site-packages (1.44.1)\n",
      "Requirement already satisfied: altair<6,>=4.0 in c:\\users\\subham raha\\appdata\\roaming\\python\\python313\\site-packages (from streamlit) (5.5.0)\n",
      "Requirement already satisfied: blinker<2,>=1.0.0 in c:\\users\\subham raha\\appdata\\roaming\\python\\python313\\site-packages (from streamlit) (1.9.0)\n",
      "Requirement already satisfied: cachetools<6,>=4.0 in c:\\users\\subham raha\\appdata\\roaming\\python\\python313\\site-packages (from streamlit) (5.5.2)\n",
      "Requirement already satisfied: click<9,>=7.0 in c:\\users\\subham raha\\appdata\\roaming\\python\\python313\\site-packages (from streamlit) (8.1.8)\n",
      "Requirement already satisfied: numpy<3,>=1.23 in c:\\users\\subham raha\\appdata\\roaming\\python\\python313\\site-packages (from streamlit) (2.2.4)\n",
      "Requirement already satisfied: packaging<25,>=20 in c:\\users\\subham raha\\appdata\\roaming\\python\\python313\\site-packages (from streamlit) (24.2)\n",
      "Requirement already satisfied: pandas<3,>=1.4.0 in c:\\users\\subham raha\\appdata\\roaming\\python\\python313\\site-packages (from streamlit) (2.2.3)\n",
      "Requirement already satisfied: pillow<12,>=7.1.0 in c:\\users\\subham raha\\appdata\\roaming\\python\\python313\\site-packages (from streamlit) (11.1.0)\n",
      "Requirement already satisfied: protobuf<6,>=3.20 in c:\\users\\subham raha\\appdata\\roaming\\python\\python313\\site-packages (from streamlit) (5.29.4)\n",
      "Requirement already satisfied: pyarrow>=7.0 in c:\\users\\subham raha\\appdata\\roaming\\python\\python313\\site-packages (from streamlit) (19.0.1)\n",
      "Requirement already satisfied: requests<3,>=2.27 in c:\\users\\subham raha\\appdata\\roaming\\python\\python313\\site-packages (from streamlit) (2.32.3)\n",
      "Requirement already satisfied: tenacity<10,>=8.1.0 in c:\\users\\subham raha\\appdata\\roaming\\python\\python313\\site-packages (from streamlit) (9.1.2)\n",
      "Requirement already satisfied: toml<2,>=0.10.1 in c:\\users\\subham raha\\appdata\\roaming\\python\\python313\\site-packages (from streamlit) (0.10.2)\n",
      "Requirement already satisfied: typing-extensions<5,>=4.4.0 in c:\\users\\subham raha\\appdata\\roaming\\python\\python313\\site-packages (from streamlit) (4.13.0)\n",
      "Requirement already satisfied: watchdog<7,>=2.1.5 in c:\\users\\subham raha\\appdata\\roaming\\python\\python313\\site-packages (from streamlit) (6.0.0)\n",
      "Requirement already satisfied: gitpython!=3.1.19,<4,>=3.0.7 in c:\\users\\subham raha\\appdata\\roaming\\python\\python313\\site-packages (from streamlit) (3.1.44)\n",
      "Requirement already satisfied: pydeck<1,>=0.8.0b4 in c:\\users\\subham raha\\appdata\\roaming\\python\\python313\\site-packages (from streamlit) (0.9.1)\n",
      "Requirement already satisfied: tornado<7,>=6.0.3 in c:\\users\\subham raha\\appdata\\roaming\\python\\python313\\site-packages (from streamlit) (6.4.2)\n",
      "Requirement already satisfied: jinja2 in c:\\users\\subham raha\\appdata\\roaming\\python\\python313\\site-packages (from altair<6,>=4.0->streamlit) (3.1.6)\n",
      "Requirement already satisfied: jsonschema>=3.0 in c:\\users\\subham raha\\appdata\\roaming\\python\\python313\\site-packages (from altair<6,>=4.0->streamlit) (4.23.0)\n",
      "Requirement already satisfied: narwhals>=1.14.2 in c:\\users\\subham raha\\appdata\\roaming\\python\\python313\\site-packages (from altair<6,>=4.0->streamlit) (1.33.0)\n",
      "Requirement already satisfied: colorama in c:\\users\\subham raha\\appdata\\roaming\\python\\python313\\site-packages (from click<9,>=7.0->streamlit) (0.4.6)\n",
      "Requirement already satisfied: gitdb<5,>=4.0.1 in c:\\users\\subham raha\\appdata\\roaming\\python\\python313\\site-packages (from gitpython!=3.1.19,<4,>=3.0.7->streamlit) (4.0.12)\n",
      "Requirement already satisfied: python-dateutil>=2.8.2 in c:\\users\\subham raha\\appdata\\roaming\\python\\python313\\site-packages (from pandas<3,>=1.4.0->streamlit) (2.9.0.post0)\n",
      "Requirement already satisfied: pytz>=2020.1 in c:\\users\\subham raha\\appdata\\roaming\\python\\python313\\site-packages (from pandas<3,>=1.4.0->streamlit) (2025.2)\n",
      "Requirement already satisfied: tzdata>=2022.7 in c:\\users\\subham raha\\appdata\\roaming\\python\\python313\\site-packages (from pandas<3,>=1.4.0->streamlit) (2025.2)\n",
      "Requirement already satisfied: charset-normalizer<4,>=2 in c:\\users\\subham raha\\appdata\\roaming\\python\\python313\\site-packages (from requests<3,>=2.27->streamlit) (3.4.1)\n",
      "Requirement already satisfied: idna<4,>=2.5 in c:\\users\\subham raha\\appdata\\roaming\\python\\python313\\site-packages (from requests<3,>=2.27->streamlit) (3.10)\n",
      "Requirement already satisfied: urllib3<3,>=1.21.1 in c:\\users\\subham raha\\appdata\\roaming\\python\\python313\\site-packages (from requests<3,>=2.27->streamlit) (2.3.0)\n",
      "Requirement already satisfied: certifi>=2017.4.17 in c:\\users\\subham raha\\appdata\\roaming\\python\\python313\\site-packages (from requests<3,>=2.27->streamlit) (2025.1.31)\n",
      "Requirement already satisfied: smmap<6,>=3.0.1 in c:\\users\\subham raha\\appdata\\roaming\\python\\python313\\site-packages (from gitdb<5,>=4.0.1->gitpython!=3.1.19,<4,>=3.0.7->streamlit) (5.0.2)\n",
      "Requirement already satisfied: MarkupSafe>=2.0 in c:\\users\\subham raha\\appdata\\roaming\\python\\python313\\site-packages (from jinja2->altair<6,>=4.0->streamlit) (3.0.2)\n",
      "Requirement already satisfied: attrs>=22.2.0 in c:\\users\\subham raha\\appdata\\roaming\\python\\python313\\site-packages (from jsonschema>=3.0->altair<6,>=4.0->streamlit) (25.3.0)\n",
      "Requirement already satisfied: jsonschema-specifications>=2023.03.6 in c:\\users\\subham raha\\appdata\\roaming\\python\\python313\\site-packages (from jsonschema>=3.0->altair<6,>=4.0->streamlit) (2024.10.1)\n",
      "Requirement already satisfied: referencing>=0.28.4 in c:\\users\\subham raha\\appdata\\roaming\\python\\python313\\site-packages (from jsonschema>=3.0->altair<6,>=4.0->streamlit) (0.36.2)\n",
      "Requirement already satisfied: rpds-py>=0.7.1 in c:\\users\\subham raha\\appdata\\roaming\\python\\python313\\site-packages (from jsonschema>=3.0->altair<6,>=4.0->streamlit) (0.24.0)\n",
      "Requirement already satisfied: six>=1.5 in c:\\users\\subham raha\\appdata\\roaming\\python\\python313\\site-packages (from python-dateutil>=2.8.2->pandas<3,>=1.4.0->streamlit) (1.17.0)\n",
      "Note: you may need to restart the kernel to use updated packages.\n"
     ]
    }
   ],
   "source": [
    "%pip install streamlit"
   ]
  }
 ],
 "metadata": {
  "kernelspec": {
   "display_name": "Python 3",
   "language": "python",
   "name": "python3"
  },
  "language_info": {
   "codemirror_mode": {
    "name": "ipython",
    "version": 3
   },
   "file_extension": ".py",
   "mimetype": "text/x-python",
   "name": "python",
   "nbconvert_exporter": "python",
   "pygments_lexer": "ipython3",
   "version": "3.13.2"
  }
 },
 "nbformat": 4,
 "nbformat_minor": 2
}
